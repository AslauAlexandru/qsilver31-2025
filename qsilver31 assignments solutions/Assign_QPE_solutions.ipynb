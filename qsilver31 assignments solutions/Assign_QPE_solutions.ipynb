{
 "cells": [
  {
   "cell_type": "markdown",
   "id": "5eb410e0",
   "metadata": {
    "deletable": false,
    "editable": false,
    "id": "5eb410e0",
    "nbgrader": {
     "cell_type": "markdown",
     "checksum": "a73fbe0ac582d9d1bc262ba80f97238b",
     "grade": false,
     "grade_id": "cell-fbe6abe85e486269",
     "locked": true,
     "schema_version": 3,
     "solution": false,
     "task": false
    }
   },
   "source": [
    "# Instructions\n",
    "\n",
    "The places where you have enter code, to answer the questions, are marked with `# YOUR CODE HERE`. Once you have written your code you should remove the `raise NotImplementedError()` statement.\n",
    "\n",
    "The first two questions are on phase estimation and the rest is about order finding algorithm."
   ]
  },
  {
   "cell_type": "markdown",
   "id": "ce8a1ac6",
   "metadata": {
    "deletable": false,
    "editable": false,
    "id": "ce8a1ac6",
    "nbgrader": {
     "cell_type": "markdown",
     "checksum": "1a0ae903fb34bc1c3efc09b5c724cb9f",
     "grade": false,
     "grade_id": "cell-ce3ae9e7e95b1bda",
     "locked": true,
     "schema_version": 3,
     "solution": false,
     "task": false
    }
   },
   "source": [
    "## Question 1 (2 points)\n",
    "\n",
    "Complete the function `create_operator` that returns a controlled $U$ gate where $U$ is an operator with eigenvector $|1\\rangle$ and eigenvalue $e^{2\\pi i \\phi}$.\n",
    "\n",
    "The function `create_operator` has\n",
    "\n",
    "- Input: $\\phi$\n",
    "- Returns: Controlled $U$ gate with the properties described above\n",
    "\n",
    "Don't create any circuit. Only a gate should be returned."
   ]
  },
  {
   "cell_type": "code",
   "execution_count": 23,
   "id": "8a0a61cf",
   "metadata": {
    "deletable": false,
    "id": "8a0a61cf",
    "nbgrader": {
     "cell_type": "code",
     "checksum": "2ba5e0f694359a3ac82ebf014d9787d8",
     "grade": false,
     "grade_id": "cell-1209ccd054e2ce48",
     "locked": false,
     "schema_version": 3,
     "solution": true,
     "task": false
    }
   },
   "outputs": [],
   "source": [
    "from cirq import CZPowGate\n",
    "\n",
    "def create_operator(phi):\n",
    "\n",
    "    exponent = 2 * phi\n",
    "    CU = CZPowGate(exponent=exponent)\n",
    "    # YOUR CODE HERE\n",
    "\n",
    "    # Do not modify anything below this line\n",
    "    return CU"
   ]
  },
  {
   "cell_type": "code",
   "execution_count": 24,
   "id": "cf776427",
   "metadata": {
    "colab": {
     "base_uri": "https://localhost:8080/"
    },
    "id": "cf776427",
    "outputId": "027c8c63-7d2c-4c17-cb4e-dd505ac83e21"
   },
   "outputs": [
    {
     "name": "stdout",
     "output_type": "stream",
     "text": [
      "[[ 1.        +0.j          0.        +0.j          0.        +0.j\n",
      "   0.        +0.j        ]\n",
      " [ 0.        +0.j          1.        +0.j          0.        +0.j\n",
      "   0.        +0.j        ]\n",
      " [ 0.        +0.j          0.        +0.j          1.        +0.j\n",
      "   0.        +0.j        ]\n",
      " [ 0.        +0.j          0.        +0.j          0.        +0.j\n",
      "  -0.80901699-0.58778525j]]\n",
      "(-0.8090169943749476-0.587785252292473j)\n"
     ]
    }
   ],
   "source": [
    "# You can use this code to test your function by checking the bottom right corner of the unitary matrix\n",
    "import cirq\n",
    "from cmath import exp, pi\n",
    "\n",
    "def test(phi):\n",
    "    CU = create_operator(phi)\n",
    "    unitary_matrix = cirq.unitary(CU)\n",
    "    print(unitary_matrix)\n",
    "\n",
    "phi=3/5\n",
    "test(phi)\n",
    "print(exp(2*pi*phi*1j))"
   ]
  },
  {
   "cell_type": "code",
   "execution_count": 25,
   "id": "f5d04ee2",
   "metadata": {
    "deletable": false,
    "editable": false,
    "id": "f5d04ee2",
    "nbgrader": {
     "cell_type": "code",
     "checksum": "70ffc17e6da75172fd6e8f9ad3cd0741",
     "grade": true,
     "grade_id": "cell-69b5bef54dfed34c",
     "locked": true,
     "points": 1,
     "schema_version": 3,
     "solution": false,
     "task": false
    }
   },
   "outputs": [],
   "source": [
    "# hidden tests in this cell will be used for grading."
   ]
  },
  {
   "cell_type": "code",
   "execution_count": 26,
   "id": "ca4f5deb",
   "metadata": {
    "deletable": false,
    "editable": false,
    "id": "ca4f5deb",
    "nbgrader": {
     "cell_type": "code",
     "checksum": "953354eea20b310acd65e310714229a5",
     "grade": true,
     "grade_id": "cell-9f992189d7c3e6ce",
     "locked": true,
     "points": 1,
     "schema_version": 3,
     "solution": false,
     "task": false
    }
   },
   "outputs": [],
   "source": [
    "# hidden tests in this cell will be used for grading."
   ]
  },
  {
   "cell_type": "markdown",
   "id": "ca467740",
   "metadata": {
    "deletable": false,
    "editable": false,
    "id": "ca467740",
    "nbgrader": {
     "cell_type": "markdown",
     "checksum": "0fe45ce422156d7df2cc9eb04e154ac3",
     "grade": false,
     "grade_id": "cell-69a226588a84da96",
     "locked": true,
     "schema_version": 3,
     "solution": false,
     "task": false
    }
   },
   "source": [
    "## Question 2 (8 points)\n",
    "\n",
    "Complete the function `estimate_phi` such that given a controlled $U$ gate where $U$ is an operator with eigenvector $|1\\rangle$ and eigenvalue $e^{2\\pi i \\phi}$, it estimates and returns $\\phi$.\n",
    "\n",
    "The function `estimate_phi` has\n",
    "\n",
    "- Input: Controlled $U$ gate\n",
    "- Returns: Estimate for phi\n",
    "\n",
    "You are given iqft and qpe algorithms and you can use them in your solution. Let the size of the first register equal 10."
   ]
  },
  {
   "cell_type": "code",
   "execution_count": 27,
   "id": "1308dc55",
   "metadata": {
    "id": "1308dc55"
   },
   "outputs": [],
   "source": [
    "def iqft(n,qubits,circuit):\n",
    "\n",
    "    #Swap the qubits\n",
    "    for i in range(n//2):\n",
    "        circuit.append(SWAP(qubits[i],qubits[n-i-1]), strategy = InsertStrategy.NEW)\n",
    "\n",
    "    #For each qubit\n",
    "    for i in range(n-1,-1,-1):\n",
    "        #Apply CR_k gates where j is the control and i is the target\n",
    "        k=n-i #We start with k=n-i\n",
    "        for j in range(n-1,i,-1):\n",
    "            #Define and apply CR_k gate\n",
    "            crk = CZPowGate(exponent = -2/2**(k))\n",
    "            circuit.append(crk(qubits[j],qubits[i]),strategy = InsertStrategy.NEW)\n",
    "            k=k-1 #Decrement at each step\n",
    "\n",
    "        #Apply Hadamard to the qubit\n",
    "        circuit.append(H(qubits[i]),strategy = InsertStrategy.NEW)\n",
    "\n",
    "def qpe(t,control, target, circuit, CU):\n",
    "\n",
    "    #Apply Hadamard to control qubits\n",
    "    circuit.append(cirq.H.on_each(control))\n",
    "\n",
    "    #Apply CU gates\n",
    "    for i in range(t):\n",
    "        #Obtain the power of CU gate\n",
    "        CUi = CU**(2**i)\n",
    "        #Apply CUi gate where t-i-1 is the control\n",
    "        circuit.append(CUi(control[t-i-1],*target))\n",
    "\n",
    "    #Apply inverse QFT\n",
    "    iqft(t,control,circuit)"
   ]
  },
  {
   "cell_type": "code",
   "execution_count": 28,
   "id": "4a9c3592",
   "metadata": {
    "deletable": false,
    "id": "4a9c3592",
    "nbgrader": {
     "cell_type": "code",
     "checksum": "096cb1ba6a1ae8cdae7c0a007f91fdcb",
     "grade": false,
     "grade_id": "cell-28c6d391223a0a01",
     "locked": false,
     "schema_version": 3,
     "solution": true,
     "task": false
    }
   },
   "outputs": [],
   "source": [
    "import cirq\n",
    "from cirq.circuits import InsertStrategy\n",
    "from cirq import H, SWAP, CZPowGate\n",
    "def estimate_phi(mystery):\n",
    "\n",
    "\n",
    "    #Create cirucit\n",
    "    circuit = cirq.Circuit()\n",
    "\n",
    "    # START CODE \n",
    "    \n",
    "    # 1. Set the size of the counting (first) register as specified\n",
    "    t = 10\n",
    "\n",
    "    # 2. Define the qubits\n",
    "    control_qubits = cirq.LineQubit.range(t)\n",
    "    target_qubit = cirq.LineQubit(t)  # A single target qubit, indexed after control\n",
    "\n",
    "    # 3. Prepare the eigenvector |1>\n",
    "    # The problem states U has eigenvector |1>. QPE requires\n",
    "    # the target register to be in this state.\n",
    "    circuit.append(cirq.X(target_qubit))\n",
    "\n",
    "    # 4. Call the provided QPE algorithm function\n",
    "    # The 'mystery' gate is the Controlled-U (CU)\n",
    "    # The 'target' argument in qpe() expects a list of qubits\n",
    "    qpe(t, control_qubits, [target_qubit], circuit, mystery)\n",
    "\n",
    "    # 5. Measure the control register to read out the phase\n",
    "    circuit.append(cirq.measure(*control_qubits, key='result'))\n",
    "    \n",
    "    # --- (End of YOUR CODE HERE) ---\n",
    "    # END CODE\n",
    "    # YOUR CODE HERE\n",
    "    s=cirq.Simulator()\n",
    "    samples=s.run(circuit, repetitions=1000)\n",
    "\n",
    "    #Most frequent observation\n",
    "    freq = list(samples.histogram(key='result').keys())[0]\n",
    "\n",
    "    return freq/2**t"
   ]
  },
  {
   "cell_type": "code",
   "execution_count": 29,
   "id": "56ca5b07",
   "metadata": {
    "colab": {
     "base_uri": "https://localhost:8080/",
     "height": 176
    },
    "id": "56ca5b07",
    "outputId": "8f0f0761-ed1b-4f5f-b9e0-a6d04a6a5d14"
   },
   "outputs": [],
   "source": [
    "import math\n",
    "# You can use this code to test your function by different operators\n",
    "def test_qpe(phi):\n",
    "    operator = CZPowGate(exponent=2*phi)\n",
    "    return estimate_phi(operator)\n",
    "\n",
    "assert(math.isclose(test_qpe(0.23),0.23,rel_tol=1e-2))"
   ]
  },
  {
   "cell_type": "code",
   "execution_count": 30,
   "id": "4a739c68",
   "metadata": {
    "deletable": false,
    "editable": false,
    "id": "4a739c68",
    "nbgrader": {
     "cell_type": "code",
     "checksum": "e9e9b416bc32e7eefc76e1595039ecfd",
     "grade": true,
     "grade_id": "cell-7a498dc5e783888f",
     "locked": true,
     "points": 4,
     "schema_version": 3,
     "solution": false,
     "task": false
    }
   },
   "outputs": [],
   "source": [
    "# hidden tests will be used for grading."
   ]
  },
  {
   "cell_type": "code",
   "execution_count": null,
   "id": "023c44e0",
   "metadata": {
    "deletable": false,
    "editable": false,
    "id": "023c44e0",
    "nbgrader": {
     "cell_type": "code",
     "checksum": "9402a897847c242e392faaa6f4a96649",
     "grade": true,
     "grade_id": "cell-c068da8c51694c52",
     "locked": true,
     "points": 4,
     "schema_version": 3,
     "solution": false,
     "task": false
    }
   },
   "outputs": [],
   "source": []
  },
  {
   "cell_type": "markdown",
   "id": "b9bacfef",
   "metadata": {
    "id": "b9bacfef"
   },
   "source": [
    "## Question 3 (1 point)\n",
    "\n",
    "Complete the function `calcL` such that given $N$, it returns the size $L$ of the target register. Note that $L = \\log_2 N$.\n",
    "\n",
    "The function `calcL` has\n",
    "\n",
    "- Input: $N$\n",
    "- Returns: size of the target register"
   ]
  },
  {
   "cell_type": "code",
   "execution_count": 31,
   "id": "46838d23",
   "metadata": {
    "deletable": false,
    "id": "46838d23",
    "nbgrader": {
     "cell_type": "code",
     "checksum": "459fdf0733e9f930d72ef0a6deb11352",
     "grade": false,
     "grade_id": "cell-4d50dbdbe7c3b0e0",
     "locked": false,
     "schema_version": 3,
     "solution": true,
     "task": false
    }
   },
   "outputs": [],
   "source": [
    "import math\n",
    "def calcL(N):\n",
    "\n",
    "    L=math.log(N,2)\n",
    "    # YOUR CODE HERE\n",
    "    return L"
   ]
  },
  {
   "cell_type": "code",
   "execution_count": 32,
   "id": "612bfb80",
   "metadata": {
    "colab": {
     "base_uri": "https://localhost:8080/"
    },
    "id": "612bfb80",
    "outputId": "b5e4f4e8-8334-4a15-eca1-0b5844474d01"
   },
   "outputs": [
    {
     "name": "stdout",
     "output_type": "stream",
     "text": [
      "4.906890595608519\n",
      "5.954196310386876\n"
     ]
    }
   ],
   "source": [
    "# You can use this cell to test your function\n",
    "\n",
    "print(calcL(30))\n",
    "print(calcL(62))"
   ]
  },
  {
   "cell_type": "code",
   "execution_count": 33,
   "id": "a7a14f5f",
   "metadata": {
    "deletable": false,
    "editable": false,
    "id": "a7a14f5f",
    "nbgrader": {
     "cell_type": "code",
     "checksum": "d7dd87c7ccdbfc60803485458041b157",
     "grade": true,
     "grade_id": "cell-4472f5d730dc849c",
     "locked": true,
     "points": 1,
     "schema_version": 3,
     "solution": false,
     "task": false
    }
   },
   "outputs": [],
   "source": [
    "# hidden tests will be used for grading."
   ]
  },
  {
   "cell_type": "markdown",
   "id": "dffe6ce6",
   "metadata": {
    "id": "dffe6ce6"
   },
   "source": [
    "## Question 4 (1 point)\n",
    "\n",
    "Complete the function `calct` such that given $N$, it returns the size $t$ of the control register. Note that $t = 2L + 1 + \\big \\lceil \\log \\big( 2 + \\frac{1}{2\\epsilon} \\big) \\big \\rceil$. Let $\\epsilon=0.1$.\n",
    "\n",
    "The function `calct` has\n",
    "\n",
    "- Input: $N$\n",
    "- Returns: size of the control register"
   ]
  },
  {
   "cell_type": "code",
   "execution_count": 34,
   "id": "6bc6a365",
   "metadata": {
    "deletable": false,
    "id": "6bc6a365",
    "nbgrader": {
     "cell_type": "code",
     "checksum": "dd00ee4a05dbdabfe17551e8218c1701",
     "grade": false,
     "grade_id": "cell-5e4eb5f0e18c826c",
     "locked": false,
     "schema_version": 3,
     "solution": true,
     "task": false
    }
   },
   "outputs": [],
   "source": [
    "import math\n",
    "def calct(N):\n",
    "\n",
    "    L=calcL(N)\n",
    "    t=2*L+1+math.ceil(math.log(2+1/(2*0.1),2))\n",
    "    # YOUR CODE HERE\n",
    "    return t"
   ]
  },
  {
   "cell_type": "code",
   "execution_count": 35,
   "id": "87d740dc",
   "metadata": {
    "colab": {
     "base_uri": "https://localhost:8080/"
    },
    "id": "87d740dc",
    "outputId": "58e2e3b2-198a-4dda-df19-f863d985734a"
   },
   "outputs": [
    {
     "name": "stdout",
     "output_type": "stream",
     "text": [
      "13.813781191217037\n",
      "15.908392620773752\n"
     ]
    }
   ],
   "source": [
    "# You can use this cell to test your function\n",
    "\n",
    "print(calct(30)) #For 30 the answer is 14\n",
    "print(calct(62)) #For 62 the answer is 16"
   ]
  },
  {
   "cell_type": "code",
   "execution_count": 36,
   "id": "09643cac",
   "metadata": {
    "deletable": false,
    "editable": false,
    "id": "09643cac",
    "nbgrader": {
     "cell_type": "code",
     "checksum": "e476cb655ea75aae7fb03fd0f801a067",
     "grade": true,
     "grade_id": "cell-d35e8e77a113a36f",
     "locked": true,
     "points": 1,
     "schema_version": 3,
     "solution": false,
     "task": false
    }
   },
   "outputs": [],
   "source": [
    "# hidden tests will be used for grading."
   ]
  },
  {
   "cell_type": "markdown",
   "id": "9b957c8d",
   "metadata": {
    "id": "9b957c8d"
   },
   "source": [
    "## Question 5 ( 2 points)\n",
    "\n",
    "Complete the function `create_regs` such that given the size of the control and target registers, it returns the control and target registers.\n",
    "\n",
    "The function `create_regs` has\n",
    "\n",
    "- Input: $L$ and $t$\n",
    "- Returns: Two registers `control` and `target`"
   ]
  },
  {
   "cell_type": "code",
   "execution_count": 37,
   "id": "b7108019",
   "metadata": {
    "deletable": false,
    "id": "b7108019",
    "nbgrader": {
     "cell_type": "code",
     "checksum": "9d53fa8e01a15547e1bb805d5224c52e",
     "grade": false,
     "grade_id": "cell-981c159daba85b71",
     "locked": false,
     "schema_version": 3,
     "solution": true,
     "task": false
    }
   },
   "outputs": [],
   "source": [
    "import cirq\n",
    "def create_regs(t,L):\n",
    "\n",
    "    control = cirq.LineQubit.range(t)\n",
    "    target = cirq.LineQubit.range(L)\n",
    "    # YOUR CODE HERE\n",
    "    return control, target"
   ]
  },
  {
   "cell_type": "code",
   "execution_count": 38,
   "id": "687986eb",
   "metadata": {
    "deletable": false,
    "editable": false,
    "id": "687986eb",
    "nbgrader": {
     "cell_type": "code",
     "checksum": "2e3ade86ee9b8770eb46fbd30191fbe4",
     "grade": true,
     "grade_id": "cell-4114095d75497f1f",
     "locked": true,
     "points": 1,
     "schema_version": 3,
     "solution": false,
     "task": false
    }
   },
   "outputs": [],
   "source": [
    "# hidden tests will be used for grading.\n",
    "# If this cell results in an error, your implementation is incorrect"
   ]
  },
  {
   "cell_type": "code",
   "execution_count": 39,
   "id": "77049bac",
   "metadata": {
    "deletable": false,
    "editable": false,
    "id": "77049bac",
    "nbgrader": {
     "cell_type": "code",
     "checksum": "76eed1a7983bdf2bb2728b0d8580483f",
     "grade": true,
     "grade_id": "cell-b7e2645d83e11864",
     "locked": true,
     "points": 1,
     "schema_version": 3,
     "solution": false,
     "task": false
    }
   },
   "outputs": [],
   "source": [
    "# hidden tests will be used for grading.\n",
    "# If this cell results in an error, your implementation is incorrect"
   ]
  },
  {
   "cell_type": "markdown",
   "id": "891edd76",
   "metadata": {
    "id": "891edd76"
   },
   "source": [
    "## Question 6 (8 points)\n",
    "\n",
    "Complete the function `order` so that given $x$ and $N$, it returns the histogram of samples from the order finding circuit.\n",
    "\n",
    "The function `order` has\n",
    "\n",
    "- Input: $x$ and $N$\n",
    "- Returns: A histogram of samples\n",
    "\n",
    "Notes:\n",
    "\n",
    "- You are given a function named $U_x$ which implements $U_x |y\\rangle \\rightarrow |xy {\\mod N}\\rangle $ and returns its controlled version. Run the following cell to load the function. In order to use the function you should pass $x$ and $N$ as parameter.\n",
    "\n",
    "    <pre>CU=Ux(x,N)</pre>\n",
    "\n",
    "- You are also given the code for `qpe` and `iqft`."
   ]
  },
  {
   "cell_type": "code",
   "execution_count": 40,
   "id": "6cd34670",
   "metadata": {
    "id": "6cd34670"
   },
   "outputs": [],
   "source": [
    "import numpy as np\n",
    "def Ux(x,N):\n",
    "\n",
    "    k=1\n",
    "    while(N>2**k):\n",
    "        k=k+1\n",
    "\n",
    "    u = np.zeros([2**k, 2**k], dtype = int)\n",
    "\n",
    "    for i in range(N):\n",
    "        u[x*i%N][i]=1\n",
    "    for i in range(N,2**k):\n",
    "        u[i][i]=1\n",
    "\n",
    "\n",
    "    XU = cirq.MatrixGate(u).controlled()\n",
    "    return XU"
   ]
  },
  {
   "cell_type": "code",
   "execution_count": 41,
   "id": "a5294444",
   "metadata": {
    "id": "a5294444"
   },
   "outputs": [],
   "source": [
    "import cirq\n",
    "from cirq.circuits import InsertStrategy\n",
    "from cirq import H, SWAP, CZPowGate\n",
    "def iqft(n,qubits,circuit):\n",
    "\n",
    "    #Swap the qubits\n",
    "    for i in range(n//2):\n",
    "        circuit.append(SWAP(qubits[i],qubits[n-i-1]), strategy = InsertStrategy.NEW)\n",
    "\n",
    "    #For each qubit\n",
    "    for i in range(n-1,-1,-1):\n",
    "        #Apply CR_k gates where j is the control and i is the target\n",
    "        k=n-i #We start with k=n-i\n",
    "        for j in range(n-1,i,-1):\n",
    "            #Define and apply CR_k gate\n",
    "            crk = CZPowGate(exponent = -2/2**(k))\n",
    "            circuit.append(crk(qubits[j],qubits[i]),strategy = InsertStrategy.NEW)\n",
    "            k=k-1 #Decrement at each step\n",
    "\n",
    "        #Apply Hadamard to the qubit\n",
    "        circuit.append(H(qubits[i]),strategy = InsertStrategy.NEW)\n",
    "\n",
    "def qpe(t,control, target, circuit, CU):\n",
    "\n",
    "    #Apply Hadamard to control qubits\n",
    "    circuit.append(cirq.H.on_each(control))\n",
    "\n",
    "    #Apply CU gates\n",
    "    for i in range(t):\n",
    "        #Obtain the power of CU gate\n",
    "        CUi = CU**(2**i)\n",
    "        #Apply CUi gate where t-i-1 is the control\n",
    "        circuit.append(CUi(control[t-i-1],*target))\n",
    "\n",
    "    #Apply inverse QFT\n",
    "    iqft(t,control,circuit)"
   ]
  },
  {
   "cell_type": "code",
   "execution_count": 42,
   "id": "1f476ac5",
   "metadata": {
    "deletable": false,
    "id": "1f476ac5",
    "nbgrader": {
     "cell_type": "code",
     "checksum": "d2644e421ee35daa3264d39981cf6b47",
     "grade": false,
     "grade_id": "cell-d6953b0d7c212dfc",
     "locked": false,
     "schema_version": 3,
     "solution": true,
     "task": false
    }
   },
   "outputs": [],
   "source": [
    "import cirq\n",
    "from cirq import X, SWAP\n",
    "\n",
    "def order(x,N):\n",
    "    #Create a circuit\n",
    "    circuit = cirq.Circuit()\n",
    "    \n",
    "    # START CODE \n",
    "    \n",
    "    # 1. Get the controlled U_x gate\n",
    "    CU = Ux(x, N)\n",
    "\n",
    "    # 2. Determine the number of qubits for the target register (k)\n",
    "    # The CU gate from Ux() has 1 control and 'k' target qubits.\n",
    "    # So, k = (total qubits in CU) - 1.\n",
    "    k = CU.num_qubits() - 1\n",
    "\n",
    "    # 3. Determine the number of qubits for the control register (t)\n",
    "    # For order finding, we need high precision, so we use\n",
    "    # t = 2k (which gives 2*log(N) bits of precision).\n",
    "    t = 2 * k\n",
    "\n",
    "    # 4. Define the two qubit registers\n",
    "    # The measurement code below uses a variable named 'control'\n",
    "    control = cirq.LineQubit.range(t)\n",
    "    target = cirq.LineQubit.range(t, t + k)\n",
    "\n",
    "    # 5. Prepare the target register in the state |1>\n",
    "    # The |1> state is a superposition of all eigenvectors of U_x.\n",
    "    # We create |1> (which is |00...01>) by applying an X gate\n",
    "    # to the last qubit of the target register.\n",
    "    circuit.append(cirq.X(target[-1]))\n",
    "\n",
    "    # 6. Call the provided QPE function to build the circuit\n",
    "    # qpe(t, control, target, circuit, CU)\n",
    "    qpe(t, control, target, circuit, CU)\n",
    "    \n",
    "    # --- (End of YOUR CODE HERE) ---\n",
    "    # END CODE\n",
    "    # YOUR CODE HERE\n",
    "\n",
    "    #Measure the control register\n",
    "    circuit.append(cirq.measure(*control, key='result'))\n",
    "\n",
    "    #Sample the circuit\n",
    "    s=cirq.Simulator()\n",
    "    samples=s.run(circuit, repetitions=1000)\n",
    "\n",
    "    # Return a histogram of samples\n",
    "    results= samples.histogram(key='result')\n",
    "    return results"
   ]
  },
  {
   "cell_type": "code",
   "execution_count": 43,
   "id": "80a32d3d",
   "metadata": {
    "id": "80a32d3d"
   },
   "outputs": [
    {
     "name": "stdout",
     "output_type": "stream",
     "text": [
      "Counter({0: 189, 819: 176, 205: 166, 614: 124, 410: 115, 409: 54, 615: 52, 204: 9, 820: 9, 408: 8, 818: 7, 616: 7, 412: 6, 617: 5, 411: 5, 821: 5, 206: 5, 404: 4, 613: 4, 416: 3, 611: 3, 817: 3, 207: 2, 415: 2, 398: 2, 407: 2, 212: 2, 822: 2, 622: 1, 626: 1, 824: 1, 812: 1, 417: 1, 384: 1, 382: 1, 202: 1, 201: 1, 829: 1, 405: 1, 397: 1, 671: 1, 604: 1, 627: 1, 620: 1, 628: 1, 831: 1, 827: 1, 433: 1, 396: 1, 429: 1, 880: 1, 402: 1, 810: 1, 823: 1, 644: 1, 612: 1, 413: 1})\n"
     ]
    }
   ],
   "source": [
    "#You can use this cell to test your function\n",
    "\n",
    "results = order(4,31)\n",
    "print(results)"
   ]
  },
  {
   "cell_type": "code",
   "execution_count": 44,
   "id": "f360d1f3",
   "metadata": {
    "deletable": false,
    "editable": false,
    "id": "f360d1f3",
    "nbgrader": {
     "cell_type": "code",
     "checksum": "7d1e2bc09cf9b72db7935fad231a806d",
     "grade": true,
     "grade_id": "cell-0a4e8d27c4788f91",
     "locked": true,
     "points": 6,
     "schema_version": 3,
     "solution": false,
     "task": false
    }
   },
   "outputs": [],
   "source": [
    "# hidden tests will be used for grading.\n",
    "# If this cell results in an error, your implementation is incorrect"
   ]
  },
  {
   "cell_type": "code",
   "execution_count": null,
   "id": "2a90007f",
   "metadata": {
    "id": "2a90007f"
   },
   "outputs": [],
   "source": []
  }
 ],
 "metadata": {
  "colab": {
   "provenance": []
  },
  "kernelspec": {
   "display_name": ".venv",
   "language": "python",
   "name": "python3"
  },
  "language_info": {
   "codemirror_mode": {
    "name": "ipython",
    "version": 3
   },
   "file_extension": ".py",
   "mimetype": "text/x-python",
   "name": "python",
   "nbconvert_exporter": "python",
   "pygments_lexer": "ipython3",
   "version": "3.11.10"
  }
 },
 "nbformat": 4,
 "nbformat_minor": 5
}
